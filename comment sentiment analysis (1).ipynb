{
 "cells": [
  {
   "cell_type": "code",
   "execution_count": 1,
   "id": "d2f98783",
   "metadata": {},
   "outputs": [],
   "source": [
    "import os\n",
    "import pandas as pd\n",
    "import numpy as np\n",
    "import re\n",
    "import tensorflow as tf\n",
    "from sklearn.model_selection import train_test_split\n",
    "from tensorflow.keras.preprocessing.text import Tokenizer\n",
    "from tensorflow.keras.preprocessing.sequence import pad_sequences\n",
    "from tensorflow.keras import Sequential\n",
    "from tensorflow.keras.layers import Embedding, LSTM, Dense, Dropout ,BatchNormalization, LayerNormalization\n",
    "from sklearn.preprocessing import LabelEncoder\n",
    "from tensorflow.keras.utils import to_categorical\n",
    "from sklearn.feature_extraction.text import TfidfVectorizer\n",
    "from sklearn.svm import SVC\n",
    "from sklearn.naive_bayes import MultinomialNB\n",
    "from sklearn.ensemble import RandomForestClassifier\n",
    "from sklearn.metrics import accuracy_score, classification_report"
   ]
  },
  {
   "cell_type": "code",
   "execution_count": 2,
   "id": "cd924822",
   "metadata": {},
   "outputs": [],
   "source": [
    "data = pd.read_csv(\"Tweets.csv\")"
   ]
  },
  {
   "cell_type": "code",
   "execution_count": 3,
   "id": "f46768ae",
   "metadata": {},
   "outputs": [],
   "source": [
    "def clean_text(text):\n",
    "    text = text.lower()\n",
    "    text = re.sub(r'http\\S+', '', text)  # Remove URLs\n",
    "    text = re.sub(r'[^a-zA-Z0-9\\s]', '', text)  # Remove special characters\n",
    "    text = re.sub(r'\\s+', ' ', text).strip()  # Remove extra spaces\n",
    "    return text"
   ]
  },
  {
   "cell_type": "code",
   "execution_count": 4,
   "id": "187e30db",
   "metadata": {},
   "outputs": [
    {
     "data": {
      "text/html": [
       "<div>\n",
       "<style scoped>\n",
       "    .dataframe tbody tr th:only-of-type {\n",
       "        vertical-align: middle;\n",
       "    }\n",
       "\n",
       "    .dataframe tbody tr th {\n",
       "        vertical-align: top;\n",
       "    }\n",
       "\n",
       "    .dataframe thead th {\n",
       "        text-align: right;\n",
       "    }\n",
       "</style>\n",
       "<table border=\"1\" class=\"dataframe\">\n",
       "  <thead>\n",
       "    <tr style=\"text-align: right;\">\n",
       "      <th></th>\n",
       "      <th>textID</th>\n",
       "      <th>text</th>\n",
       "      <th>selected_text</th>\n",
       "      <th>sentiment</th>\n",
       "    </tr>\n",
       "  </thead>\n",
       "  <tbody>\n",
       "    <tr>\n",
       "      <th>0</th>\n",
       "      <td>cb774db0d1</td>\n",
       "      <td>I`d have responded, if I were going</td>\n",
       "      <td>I`d have responded, if I were going</td>\n",
       "      <td>neutral</td>\n",
       "    </tr>\n",
       "    <tr>\n",
       "      <th>1</th>\n",
       "      <td>549e992a42</td>\n",
       "      <td>Sooo SAD I will miss you here in San Diego!!!</td>\n",
       "      <td>Sooo SAD</td>\n",
       "      <td>negative</td>\n",
       "    </tr>\n",
       "    <tr>\n",
       "      <th>2</th>\n",
       "      <td>088c60f138</td>\n",
       "      <td>my boss is bullying me...</td>\n",
       "      <td>bullying me</td>\n",
       "      <td>negative</td>\n",
       "    </tr>\n",
       "    <tr>\n",
       "      <th>3</th>\n",
       "      <td>9642c003ef</td>\n",
       "      <td>what interview! leave me alone</td>\n",
       "      <td>leave me alone</td>\n",
       "      <td>negative</td>\n",
       "    </tr>\n",
       "    <tr>\n",
       "      <th>4</th>\n",
       "      <td>358bd9e861</td>\n",
       "      <td>Sons of ****, why couldn`t they put them on t...</td>\n",
       "      <td>Sons of ****,</td>\n",
       "      <td>negative</td>\n",
       "    </tr>\n",
       "  </tbody>\n",
       "</table>\n",
       "</div>"
      ],
      "text/plain": [
       "       textID                                               text  \\\n",
       "0  cb774db0d1                I`d have responded, if I were going   \n",
       "1  549e992a42      Sooo SAD I will miss you here in San Diego!!!   \n",
       "2  088c60f138                          my boss is bullying me...   \n",
       "3  9642c003ef                     what interview! leave me alone   \n",
       "4  358bd9e861   Sons of ****, why couldn`t they put them on t...   \n",
       "\n",
       "                         selected_text sentiment  \n",
       "0  I`d have responded, if I were going   neutral  \n",
       "1                             Sooo SAD  negative  \n",
       "2                          bullying me  negative  \n",
       "3                       leave me alone  negative  \n",
       "4                        Sons of ****,  negative  "
      ]
     },
     "execution_count": 4,
     "metadata": {},
     "output_type": "execute_result"
    }
   ],
   "source": [
    "data.head()"
   ]
  },
  {
   "cell_type": "code",
   "execution_count": 4,
   "id": "696ff839",
   "metadata": {},
   "outputs": [],
   "source": [
    "data['text'] = data['text'].fillna('') \n",
    "X = data['text']\n",
    "Y = data['sentiment']\n",
    "X = X.apply(clean_text)"
   ]
  },
  {
   "cell_type": "code",
   "execution_count": 5,
   "id": "255ae274",
   "metadata": {},
   "outputs": [],
   "source": [
    "vectorizer = TfidfVectorizer(max_features=5000)  \n",
    "X_vect = vectorizer.fit_transform(X)"
   ]
  },
  {
   "cell_type": "code",
   "execution_count": 6,
   "id": "a42eec1b",
   "metadata": {},
   "outputs": [],
   "source": [
    "#For ML Models\n",
    "X_train_ML, X_test_ML, y_train_ML, y_test_ML = train_test_split(X_vect, Y, test_size=0.2, random_state=42)"
   ]
  },
  {
   "cell_type": "code",
   "execution_count": 8,
   "id": "a08e4e05",
   "metadata": {},
   "outputs": [],
   "source": [
    "svm_model = SVC()\n",
    "rf_model = RandomForestClassifier(n_estimators=100,n_jobs=-1,min_samples_split=5, random_state=42)\n",
    "nb_model = MultinomialNB()"
   ]
  },
  {
   "cell_type": "code",
   "execution_count": 9,
   "id": "ea5abe04",
   "metadata": {},
   "outputs": [
    {
     "name": "stdout",
     "output_type": "stream",
     "text": [
      "SVM Accuracy: 0.6916499909041295\n"
     ]
    }
   ],
   "source": [
    "svm_model.fit(X_train_ML, y_train_ML)\n",
    "svm_predictions = svm_model.predict(X_test_ML)\n",
    "svm_accuracy = accuracy_score(y_test_ML, svm_predictions)\n",
    "print(\"SVM Accuracy:\", svm_accuracy)"
   ]
  },
  {
   "cell_type": "code",
   "execution_count": 10,
   "id": "fea4d5f3",
   "metadata": {},
   "outputs": [
    {
     "name": "stdout",
     "output_type": "stream",
     "text": [
      "Random Forest Accuracy: 0.686556303438239\n"
     ]
    }
   ],
   "source": [
    "rf_model.fit(X_train_ML, y_train_ML)\n",
    "rf_predictions = rf_model.predict(X_test_ML)\n",
    "rf_accuracy = accuracy_score(y_test_ML, rf_predictions)\n",
    "print(\"Random Forest Accuracy:\", rf_accuracy)"
   ]
  },
  {
   "cell_type": "code",
   "execution_count": 11,
   "id": "b29bd4f9",
   "metadata": {},
   "outputs": [
    {
     "name": "stdout",
     "output_type": "stream",
     "text": [
      "Naive Bayes Accuracy: 0.639439694378752\n"
     ]
    }
   ],
   "source": [
    "nb_model.fit(X_train_ML, y_train_ML)\n",
    "nb_predictions = nb_model.predict(X_test_ML)\n",
    "nb_accuracy = accuracy_score(y_test_ML, nb_predictions)\n",
    "print(\"Naive Bayes Accuracy:\", nb_accuracy)"
   ]
  },
  {
   "cell_type": "code",
   "execution_count": 12,
   "id": "59c7025e",
   "metadata": {},
   "outputs": [],
   "source": [
    "import matplotlib.pyplot as plt\n",
    "import seaborn as sns\n",
    "from sklearn.metrics import confusion_matrix, ConfusionMatrixDisplay"
   ]
  },
  {
   "cell_type": "code",
   "execution_count": 13,
   "id": "bcd35ee3",
   "metadata": {},
   "outputs": [
    {
     "data": {
      "image/png": "[encoded data removed]",
      "text/plain": [
       "<Figure size 1296x360 with 6 Axes>"
      ]
     },
     "metadata": {
      "needs_background": "light"
     },
     "output_type": "display_data"
    }
   ],
   "source": [
    "models = {'SVM': svm_predictions, 'Random Forest': rf_predictions, 'Naive Bayes': nb_predictions}\n",
    "fig, axes = plt.subplots(1, 3, figsize=(18, 5))\n",
    "\n",
    "for i, (name, predictions) in enumerate(models.items()):\n",
    "    cm = confusion_matrix(y_test_ML, predictions)\n",
    "    disp = ConfusionMatrixDisplay(confusion_matrix=cm, display_labels=np.unique(y_test_ML))\n",
    "    disp.plot(ax=axes[i], cmap='Blues')\n",
    "    axes[i].set_title(f'{name} Confusion Matrix')\n",
    "\n",
    "plt.tight_layout()\n",
    "plt.show()"
   ]
  },
  {
   "cell_type": "code",
   "execution_count": 14,
   "id": "97ab7ca9",
   "metadata": {},
   "outputs": [
    {
     "data": {
      "image/png": "[encoded data removed]",
      "text/plain": [
       "<Figure size 1296x360 with 6 Axes>"
      ]
     },
     "metadata": {
      "needs_background": "light"
     },
     "output_type": "display_data"
    }
   ],
   "source": [
    "models = {'SVM': svm_predictions, 'Random Forest': rf_predictions, 'Naive Bayes': nb_predictions}\n",
    "fig, axes = plt.subplots(1, 3, figsize=(18, 5))\n",
    "\n",
    "for i, (name, predictions) in enumerate(models.items()):\n",
    "    cm = confusion_matrix(y_test_ML, predictions)\n",
    "    disp = ConfusionMatrixDisplay(confusion_matrix=cm, display_labels=np.unique(y_test_ML))\n",
    "    disp.plot(ax=axes[i], cmap='Blues')\n",
    "    axes[i].set_title(f'{name} Confusion Matrix')\n",
    "\n",
    "plt.tight_layout()\n",
    "plt.show()"
   ]
  },
  {
   "cell_type": "code",
   "execution_count": 8,
   "id": "5bcdba13",
   "metadata": {},
   "outputs": [
    {
     "name": "stdout",
     "output_type": "stream",
     "text": [
      "0         neutral\n",
      "1        negative\n",
      "2        negative\n",
      "3        negative\n",
      "4        negative\n",
      "           ...   \n",
      "27476    negative\n",
      "27477    negative\n",
      "27478    positive\n",
      "27479    positive\n",
      "27480     neutral\n",
      "Name: sentiment, Length: 27481, dtype: object\n"
     ]
    }
   ],
   "source": [
    "x = data['text']\n",
    "y = data['sentiment']\n",
    "print(y)"
   ]
  },
  {
   "cell_type": "code",
   "execution_count": 9,
   "id": "4b9d7210",
   "metadata": {},
   "outputs": [
    {
     "name": "stdout",
     "output_type": "stream",
     "text": [
      "[1 0 0 ... 2 2 1]\n"
     ]
    }
   ],
   "source": [
    "# Encode labels\n",
    "label_encoder = LabelEncoder()\n",
    "y = label_encoder.fit_transform(y)  # Convert labels to numeric\n",
    "print(y)\n",
    "y = to_categorical(y)  # Convert to categorical format for multi-class classification"
   ]
  },
  {
   "cell_type": "code",
   "execution_count": 10,
   "id": "9a1165b5",
   "metadata": {},
   "outputs": [],
   "source": [
    "# Split data into training and test sets\n",
    "X_train, X_test, y_train, y_test = train_test_split(x, y, test_size=0.20, random_state=42)\n"
   ]
  },
  {
   "cell_type": "code",
   "execution_count": 11,
   "id": "67a342ac",
   "metadata": {},
   "outputs": [],
   "source": [
    "# Parameters for tokenization\n",
    "max_words = 8000  # Vocabulary size (choose based on dataset)\n",
    "max_len = 100     # Max length of each sequence\n",
    "# Tokenization and Text Preprocessing\n",
    "tokenizer = Tokenizer(num_words=max_words, oov_token=\"<OOV>\")\n",
    "tokenizer.fit_on_texts(X_train)  # Fit only on training data to avoid data leakage"
   ]
  },
  {
   "cell_type": "code",
   "execution_count": 12,
   "id": "f338185b",
   "metadata": {},
   "outputs": [],
   "source": [
    "# Convert texts to sequences\n",
    "X_train_seq = tokenizer.texts_to_sequences(X_train)\n",
    "X_test_seq = tokenizer.texts_to_sequences(X_test)"
   ]
  },
  {
   "cell_type": "code",
   "execution_count": 13,
   "id": "5eee6f3c",
   "metadata": {},
   "outputs": [
    {
     "name": "stdout",
     "output_type": "stream",
     "text": [
      "Vocabulary size: 23190\n",
      "Example of a padded sequence: [1142  171   96  383    0    0    0    0    0    0    0    0    0    0\n",
      "    0    0    0    0    0    0    0    0    0    0    0    0    0    0\n",
      "    0    0    0    0    0    0    0    0    0    0    0    0    0    0\n",
      "    0    0    0    0    0    0    0    0    0    0    0    0    0    0\n",
      "    0    0    0    0    0    0    0    0    0    0    0    0    0    0\n",
      "    0    0    0    0    0    0    0    0    0    0    0    0    0    0\n",
      "    0    0    0    0    0    0    0    0    0    0    0    0    0    0\n",
      "    0    0]\n"
     ]
    }
   ],
   "source": [
    "# Padding sequences to ensure equal length\n",
    "\n",
    "X_train_pad = pad_sequences(X_train_seq, maxlen=max_len, padding='post')\n",
    "X_test_pad = pad_sequences(X_test_seq, maxlen=max_len, padding='post')\n",
    "print(f\"Vocabulary size: {len(tokenizer.word_index)}\")\n",
    "print(f\"Example of a padded sequence: {X_train_pad[0]}\")"
   ]
  },
  {
   "cell_type": "code",
   "execution_count": 14,
   "id": "6b1058cc",
   "metadata": {},
   "outputs": [],
   "source": [
    "embedding_dim = 128  # Adjusted embedding dimension\n",
    "output_classes = y.shape[1]  # Number of sentiment classes (e.g., 3 for positive, negative, neutral)"
   ]
  },
  {
   "cell_type": "code",
   "execution_count": 15,
   "id": "e0ff799c",
   "metadata": {},
   "outputs": [],
   "source": [
    "from tensorflow.keras.models import Sequential\n",
    "from tensorflow.keras.layers import Embedding, SimpleRNN, LSTM, Dense, Dropout, SpatialDropout1D, Bidirectional"
   ]
  },
  {
   "cell_type": "code",
   "execution_count": 23,
   "id": "5c0f4166",
   "metadata": {},
   "outputs": [],
   "source": [
    "def build_rnn_model(vocab_size, embedding_dim, max_len, output_classes):\n",
    "    model = Sequential()\n",
    "    model.add(Embedding(vocab_size, embedding_dim))\n",
    "    model.add(SpatialDropout1D(0.3))\n",
    "    model.add(Bidirectional(SimpleRNN(64, dropout=0.2, recurrent_dropout=0.2, return_sequences=True)))\n",
    "    model.add(Bidirectional(SimpleRNN(32, dropout=0.2, recurrent_dropout=0.2)))\n",
    "    model.add(Dense(32, activation='relu'))\n",
    "    model.add(Dropout(0.3))\n",
    "    model.add(Dense(output_classes, activation='softmax'))\n",
    "    return model"
   ]
  },
  {
   "cell_type": "code",
   "execution_count": 16,
   "id": "94376854",
   "metadata": {},
   "outputs": [],
   "source": [
    "def build_lstm_model(vocab_size, embedding_dim, max_len, output_classes):\n",
    "    model = Sequential()\n",
    "    model.add(Embedding(vocab_size, embedding_dim))\n",
    "    model.add(SpatialDropout1D(0.3))\n",
    "    model.add(Bidirectional(LSTM(64, dropout=0.2, recurrent_dropout=0.2, return_sequences=True)))\n",
    "    model.add(Bidirectional(LSTM(32, dropout=0.2, recurrent_dropout=0.2)))\n",
    "    model.add(Dense(32, activation='relu'))\n",
    "    model.add(Dropout(0.3))\n",
    "    model.add(Dense(output_classes, activation='softmax'))\n",
    "    return model"
   ]
  },
  {
   "cell_type": "code",
   "execution_count": 17,
   "id": "257dcd18",
   "metadata": {},
   "outputs": [],
   "source": [
    "output_classes = y.shape[1]  # Number of sentiment classes (e.g., 3 for positive, negative, neutral)"
   ]
  },
  {
   "cell_type": "code",
   "execution_count": 26,
   "id": "3656d933",
   "metadata": {},
   "outputs": [],
   "source": [
    "rnn_model = build_rnn_model(max_words, embedding_dim, max_len, output_classes)\n",
    "rnn_model.compile(loss='categorical_crossentropy', optimizer='adam', metrics=['accuracy'])\n"
   ]
  },
  {
   "cell_type": "code",
   "execution_count": 27,
   "id": "f41733ea",
   "metadata": {},
   "outputs": [
    {
     "name": "stdout",
     "output_type": "stream",
     "text": [
      "Epoch 1/10\n",
      "\u001b[1m687/687\u001b[0m \u001b[32m━━━━━━━━━━━━━━━━━━━━\u001b[0m\u001b[37m\u001b[0m \u001b[1m57s\u001b[0m 70ms/step - accuracy: 0.3666 - loss: 1.1358 - val_accuracy: 0.4057 - val_loss: 1.0874\n",
      "Epoch 2/10\n",
      "\u001b[1m687/687\u001b[0m \u001b[32m━━━━━━━━━━━━━━━━━━━━\u001b[0m\u001b[37m\u001b[0m \u001b[1m47s\u001b[0m 68ms/step - accuracy: 0.4051 - loss: 1.0881 - val_accuracy: 0.4057 - val_loss: 1.0856\n",
      "Epoch 3/10\n",
      "\u001b[1m687/687\u001b[0m \u001b[32m━━━━━━━━━━━━━━━━━━━━\u001b[0m\u001b[37m\u001b[0m \u001b[1m47s\u001b[0m 69ms/step - accuracy: 0.3983 - loss: 1.0899 - val_accuracy: 0.4057 - val_loss: 1.0856\n",
      "Epoch 4/10\n",
      "\u001b[1m687/687\u001b[0m \u001b[32m━━━━━━━━━━━━━━━━━━━━\u001b[0m\u001b[37m\u001b[0m \u001b[1m45s\u001b[0m 66ms/step - accuracy: 0.4042 - loss: 1.0834 - val_accuracy: 0.4830 - val_loss: 1.0093\n",
      "Epoch 5/10\n",
      "\u001b[1m687/687\u001b[0m \u001b[32m━━━━━━━━━━━━━━━━━━━━\u001b[0m\u001b[37m\u001b[0m \u001b[1m48s\u001b[0m 69ms/step - accuracy: 0.5107 - loss: 0.9658 - val_accuracy: 0.5650 - val_loss: 0.9095\n",
      "Epoch 6/10\n",
      "\u001b[1m687/687\u001b[0m \u001b[32m━━━━━━━━━━━━━━━━━━━━\u001b[0m\u001b[37m\u001b[0m \u001b[1m48s\u001b[0m 70ms/step - accuracy: 0.5872 - loss: 0.8845 - val_accuracy: 0.5827 - val_loss: 0.8626\n",
      "Epoch 7/10\n",
      "\u001b[1m687/687\u001b[0m \u001b[32m━━━━━━━━━━━━━━━━━━━━\u001b[0m\u001b[37m\u001b[0m \u001b[1m49s\u001b[0m 72ms/step - accuracy: 0.6109 - loss: 0.8212 - val_accuracy: 0.5883 - val_loss: 0.8457\n",
      "Epoch 8/10\n",
      "\u001b[1m687/687\u001b[0m \u001b[32m━━━━━━━━━━━━━━━━━━━━\u001b[0m\u001b[37m\u001b[0m \u001b[1m48s\u001b[0m 70ms/step - accuracy: 0.6401 - loss: 0.7905 - val_accuracy: 0.6271 - val_loss: 0.8346\n",
      "Epoch 9/10\n",
      "\u001b[1m687/687\u001b[0m \u001b[32m━━━━━━━━━━━━━━━━━━━━\u001b[0m\u001b[37m\u001b[0m \u001b[1m85s\u001b[0m 74ms/step - accuracy: 0.6746 - loss: 0.7555 - val_accuracy: 0.6573 - val_loss: 0.7993\n",
      "Epoch 10/10\n",
      "\u001b[1m687/687\u001b[0m \u001b[32m━━━━━━━━━━━━━━━━━━━━\u001b[0m\u001b[37m\u001b[0m \u001b[1m53s\u001b[0m 77ms/step - accuracy: 0.6814 - loss: 0.7444 - val_accuracy: 0.6507 - val_loss: 0.8179\n"
     ]
    }
   ],
   "source": [
    "# Train the model\n",
    "history = rnn_model.fit(X_train_pad, y_train, epochs=10, batch_size=32, validation_data=(X_test_pad, y_test), verbose=1)"
   ]
  },
  {
   "cell_type": "code",
   "execution_count": 22,
   "id": "445335d8",
   "metadata": {},
   "outputs": [
    {
     "name": "stdout",
     "output_type": "stream",
     "text": [
      "Epoch 1/5\n",
      "\u001b[1m687/687\u001b[0m \u001b[32m━━━━━━━━━━━━━━━━━━━━\u001b[0m\u001b[37m\u001b[0m \u001b[1m189s\u001b[0m 137ms/step - accuracy: 0.4939 - loss: 0.9840 - val_accuracy: 0.7138 - val_loss: 0.6895\n",
      "Epoch 2/5\n",
      "\u001b[1m687/687\u001b[0m \u001b[32m━━━━━━━━━━━━━━━━━━━━\u001b[0m\u001b[37m\u001b[0m \u001b[1m128s\u001b[0m 116ms/step - accuracy: 0.7467 - loss: 0.6377 - val_accuracy: 0.7191 - val_loss: 0.6570\n",
      "Epoch 3/5\n",
      "\u001b[1m687/687\u001b[0m \u001b[32m━━━━━━━━━━━━━━━━━━━━\u001b[0m\u001b[37m\u001b[0m \u001b[1m79s\u001b[0m 116ms/step - accuracy: 0.7962 - loss: 0.5403 - val_accuracy: 0.7289 - val_loss: 0.6832\n",
      "Epoch 4/5\n",
      "\u001b[1m687/687\u001b[0m \u001b[32m━━━━━━━━━━━━━━━━━━━━\u001b[0m\u001b[37m\u001b[0m \u001b[1m76s\u001b[0m 111ms/step - accuracy: 0.8223 - loss: 0.4798 - val_accuracy: 0.7200 - val_loss: 0.6753\n",
      "Epoch 5/5\n",
      "\u001b[1m687/687\u001b[0m \u001b[32m━━━━━━━━━━━━━━━━━━━━\u001b[0m\u001b[37m\u001b[0m \u001b[1m83s\u001b[0m 120ms/step - accuracy: 0.8464 - loss: 0.4300 - val_accuracy: 0.7137 - val_loss: 0.7466\n"
     ]
    }
   ],
   "source": [
    "model = build_lstm_model(max_words, embedding_dim, max_len, output_classes)\n",
    "\n",
    "model.compile(loss='categorical_crossentropy', optimizer='adam', metrics=['accuracy'])\n",
    "\n",
    "# Train the model\n",
    "lstm_history = model.fit(X_train_pad, y_train, epochs=5, batch_size=32, validation_data=(X_test_pad, y_test), verbose=1)"
   ]
  },
  {
   "cell_type": "code",
   "execution_count": 19,
   "id": "5fc95103",
   "metadata": {},
   "outputs": [],
   "source": [
    "model.save('lstm_model.keras')"
   ]
  },
  {
   "cell_type": "code",
   "execution_count": 30,
   "id": "cbad4acf",
   "metadata": {},
   "outputs": [],
   "source": [
    "rnn_model.save('rnn_model.keras')"
   ]
  },
  {
   "cell_type": "code",
   "execution_count": 31,
   "id": "be34917b",
   "metadata": {},
   "outputs": [
    {
     "data": {
      "text/plain": [
       "<matplotlib.legend.Legend at 0x23647e3d160>"
      ]
     },
     "execution_count": 31,
     "metadata": {},
     "output_type": "execute_result"
    },
    {
     "data": {
      "image/png": "[encoded data removed]",
      "text/plain": [
       "<Figure size 1008x432 with 1 Axes>"
      ]
     },
     "metadata": {
      "needs_background": "light"
     },
     "output_type": "display_data"
    }
   ],
   "source": [
    "import matplotlib.pyplot as plt\n",
    "\n",
    "plt.figure(figsize=(14, 6))\n",
    "\n",
    "# LSTM Model Accuracy Plot\n",
    "plt.subplot(1, 2, 1)\n",
    "plt.plot(range(1, 6), lstm_history.history['accuracy'], marker='o', linestyle='-', label='Training Accuracy')\n",
    "plt.plot(range(1, 6), lstm_history.history['val_accuracy'], marker='s', linestyle='--', label='Validation Accuracy')\n",
    "plt.title('LSTM Model Accuracy', fontsize=14)\n",
    "plt.xlabel('Epochs', fontsize=12)\n",
    "plt.ylabel('Accuracy', fontsize=12)\n",
    "plt.xticks(range(1, 5))\n",
    "plt.grid(True, linestyle='--', alpha=0.6)\n",
    "plt.legend()"
   ]
  },
  {
   "cell_type": "code",
   "execution_count": 32,
   "id": "a6217162",
   "metadata": {},
   "outputs": [
    {
     "data": {
      "image/png": "[encoded data removed]",
      "text/plain": [
       "<Figure size 432x288 with 1 Axes>"
      ]
     },
     "metadata": {
      "needs_background": "light"
     },
     "output_type": "display_data"
    }
   ],
   "source": [
    "plt.subplot(1, 2, 2)\n",
    "plt.plot(range(1, 11), history.history['accuracy'], marker='o', linestyle='-', label='Training Accuracy')\n",
    "plt.plot(range(1, 11), history.history['val_accuracy'], marker='s', linestyle='--', label='Validation Accuracy')\n",
    "plt.title('RNN Model Accuracy', fontsize=14)\n",
    "plt.xlabel('Epochs', fontsize=12)\n",
    "plt.ylabel('Accuracy', fontsize=12)\n",
    "plt.xticks(range(1, 11))\n",
    "plt.grid(True, linestyle='--', alpha=0.6)\n",
    "plt.legend()\n",
    "\n",
    "plt.tight_layout()\n",
    "plt.show()"
   ]
  },
  {
   "cell_type": "code",
   "execution_count": 33,
   "id": "6c8acfec",
   "metadata": {},
   "outputs": [
    {
     "name": "stdout",
     "output_type": "stream",
     "text": [
      "[0.5973435044288635, 0.7400836944580078, 0.7830694913864136, 0.811954140663147, 0.8341066241264343]\n"
     ]
    }
   ],
   "source": [
    "print(lstm_history.history['accuracy'])"
   ]
  },
  {
   "cell_type": "code",
   "execution_count": 34,
   "id": "5d5a5501",
   "metadata": {},
   "outputs": [],
   "source": [
    "import numpy as np\n",
    "import matplotlib.pyplot as plt"
   ]
  },
  {
   "cell_type": "code",
   "execution_count": 35,
   "id": "4c66a9c8",
   "metadata": {},
   "outputs": [],
   "source": [
    "rnn_accuracy = history.history['accuracy'][-1]  # Last epoch accuracy\n",
    "lstm_accuracy = lstm_history.history['accuracy'][-1]  # Last epoch accuracy"
   ]
  },
  {
   "cell_type": "code",
   "execution_count": 36,
   "id": "1c30e7ca",
   "metadata": {},
   "outputs": [],
   "source": [
    "# Accuracy comparison bar chart\n",
    "models = ['SVM', 'Random Forest', 'Naive Bayes', 'RNN', 'LSTM']\n",
    "accuracies = [svm_accuracy, rf_accuracy, nb_accuracy, rnn_accuracy, lstm_accuracy]"
   ]
  },
  {
   "cell_type": "code",
   "execution_count": 37,
   "id": "c59065df",
   "metadata": {},
   "outputs": [
    {
     "data": {
      "image/png": "[encoded data removed]",
      "text/plain": [
       "<Figure size 576x360 with 1 Axes>"
      ]
     },
     "metadata": {
      "needs_background": "light"
     },
     "output_type": "display_data"
    }
   ],
   "source": [
    "plt.figure(figsize=(8, 5))\n",
    "plt.bar(models, accuracies, color=['blue', 'green', 'orange', 'red', 'purple'])\n",
    "plt.xlabel(\"Models\")\n",
    "plt.ylabel(\"Accuracy\")\n",
    "plt.ylim(0, 1)\n",
    "plt.title(\"Model Accuracy Comparison\")\n",
    "plt.grid(axis='y', linestyle='--', alpha=0.7)"
   ]
  },
  {
   "cell_type": "code",
   "execution_count": 41,
   "id": "9c9d9ad3",
   "metadata": {},
   "outputs": [
    {
     "name": "stdout",
     "output_type": "stream",
     "text": [
      "Collecting Flask-Cors\n",
      "  Downloading flask_cors-5.0.1-py3-none-any.whl (11 kB)\n",
      "Requirement already satisfied: Werkzeug>=0.7 in c:\\users\\dell\\anaconda3\\lib\\site-packages (from Flask-Cors) (2.0.2)\n",
      "Requirement already satisfied: flask>=0.9 in c:\\users\\dell\\anaconda3\\lib\\site-packages (from Flask-Cors) (1.1.2)\n",
      "Requirement already satisfied: Jinja2>=2.10.1 in c:\\users\\dell\\anaconda3\\lib\\site-packages (from flask>=0.9->Flask-Cors) (2.11.3)\n",
      "Requirement already satisfied: click>=5.1 in c:\\users\\dell\\anaconda3\\lib\\site-packages (from flask>=0.9->Flask-Cors) (8.0.3)\n",
      "Requirement already satisfied: itsdangerous>=0.24 in c:\\users\\dell\\anaconda3\\lib\\site-packages (from flask>=0.9->Flask-Cors) (2.0.1)\n",
      "Requirement already satisfied: colorama in c:\\users\\dell\\anaconda3\\lib\\site-packages (from click>=5.1->flask>=0.9->Flask-Cors) (0.4.4)\n",
      "Requirement already satisfied: MarkupSafe>=0.23 in c:\\users\\dell\\anaconda3\\lib\\site-packages (from Jinja2>=2.10.1->flask>=0.9->Flask-Cors) (1.1.1)\n",
      "Installing collected packages: Flask-Cors\n",
      "Successfully installed Flask-Cors-5.0.1Note: you may need to restart the kernel to use updated packages.\n",
      "\n"
     ]
    }
   ],
   "source": [
    "pip install Flask-Cors\n"
   ]
  },
  {
   "cell_type": "code",
   "execution_count": 42,
   "id": "ca435e1d",
   "metadata": {},
   "outputs": [
    {
     "name": "stdout",
     "output_type": "stream",
     "text": [
      "Flask-CORS Version: 5.0.1\n"
     ]
    }
   ],
   "source": [
    "import importlib.metadata\n",
    "import flask_cors\n",
    "\n",
    "print(\"Flask-CORS Version:\", importlib.metadata.version(\"flask-cors\"))\n"
   ]
  },
  {
   "cell_type": "code",
   "execution_count": 43,
   "id": "8008c554",
   "metadata": {},
   "outputs": [],
   "source": [
    "import numpy as np\n",
    "import seaborn as sns\n",
    "import matplotlib.pyplot as plt\n",
    "from sklearn.metrics import confusion_matrix"
   ]
  },
  {
   "cell_type": "code",
   "execution_count": 44,
   "id": "f5fdb892",
   "metadata": {},
   "outputs": [
    {
     "name": "stdout",
     "output_type": "stream",
     "text": [
      "\u001b[1m172/172\u001b[0m \u001b[32m━━━━━━━━━━━━━━━━━━━━\u001b[0m\u001b[37m\u001b[0m \u001b[1m5s\u001b[0m 20ms/step\n",
      "\u001b[1m172/172\u001b[0m \u001b[32m━━━━━━━━━━━━━━━━━━━━\u001b[0m\u001b[37m\u001b[0m \u001b[1m6s\u001b[0m 31ms/step\n"
     ]
    }
   ],
   "source": [
    "# Get predictions for RNN & LSTM\n",
    "rnn_pred = np.argmax(rnn_model.predict(X_test_pad), axis=1)\n",
    "lstm_pred = np.argmax(model.predict(X_test_pad), axis=1)"
   ]
  },
  {
   "cell_type": "code",
   "execution_count": 45,
   "id": "a90fad05",
   "metadata": {},
   "outputs": [],
   "source": [
    "# Convert y_test from one-hot encoding to class labels\n",
    "y_test_labels = np.argmax(y_test, axis=1)"
   ]
  },
  {
   "cell_type": "code",
   "execution_count": 46,
   "id": "c73ef018",
   "metadata": {},
   "outputs": [],
   "source": [
    "# Compute confusion matrices\n",
    "rnn_cm = confusion_matrix(y_test_labels, rnn_pred)\n",
    "lstm_cm = confusion_matrix(y_test_labels, lstm_pred)"
   ]
  },
  {
   "cell_type": "code",
   "execution_count": 47,
   "id": "c1586a9b",
   "metadata": {},
   "outputs": [],
   "source": [
    "def plot_confusion_matrix(cm, title):\n",
    "    plt.figure(figsize=(6, 5))\n",
    "    sns.heatmap(cm, annot=True, fmt=\"d\", cmap=\"Blues\", xticklabels=['Negative', 'Neutral', 'Positive'], yticklabels=['Negative', 'Neutral', 'Positive'])\n",
    "    plt.xlabel(\"Predicted Label\")\n",
    "    plt.ylabel(\"True Label\")\n",
    "    plt.title(title)\n",
    "    plt.show()"
   ]
  },
  {
   "cell_type": "code",
   "execution_count": 48,
   "id": "bc2fe210",
   "metadata": {},
   "outputs": [
    {
     "data": {
      "image/png": "[encoded data removed]",
      "text/plain": [
       "<Figure size 432x360 with 2 Axes>"
      ]
     },
     "metadata": {
      "needs_background": "light"
     },
     "output_type": "display_data"
    },
    {
     "data": {
      "image/png": "[encoded data removed]",
      "text/plain": [
       "<Figure size 432x360 with 2 Axes>"
      ]
     },
     "metadata": {
      "needs_background": "light"
     },
     "output_type": "display_data"
    }
   ],
   "source": [
    "# Plot Confusion Matrices\n",
    "plot_confusion_matrix(rnn_cm, \"RNN Confusion Matrix\")\n",
    "plot_confusion_matrix(lstm_cm, \"LSTM Confusion Matrix\")"
   ]
  },
  {
   "cell_type": "code",
   "execution_count": 49,
   "id": "6f19f9df",
   "metadata": {},
   "outputs": [],
   "source": [
    "import importlib.metadata\n",
    "import tensorflow as tf\n",
    "import numpy as np\n",
    "import pickle\n",
    "import joblib\n",
    "import os"
   ]
  },
  {
   "cell_type": "code",
   "execution_count": 50,
   "id": "f3833e37",
   "metadata": {},
   "outputs": [
    {
     "name": "stdout",
     "output_type": "stream",
     "text": [
      "Flask Version: 1.1.2\n",
      "TensorFlow Version: 2.18.0\n",
      "NumPy Version: 1.21.5\n",
      "Pickle Version: Built-in (no specific version)\n",
      "Joblib Version: 1.1.0\n",
      "OS Module: Built-in (no specific version)\n"
     ]
    }
   ],
   "source": [
    "print(\"Flask Version:\", importlib.metadata.version(\"flask\"))\n",
    "print(\"TensorFlow Version:\", tf.__version__)\n",
    "print(\"NumPy Version:\", np.__version__)\n",
    "print(\"Pickle Version: Built-in (no specific version)\")\n",
    "print(\"Joblib Version:\", joblib.__version__)\n",
    "print(\"OS Module: Built-in (no specific version)\")"
   ]
  },
  {
   "cell_type": "code",
   "execution_count": 20,
   "id": "eb9fd16e",
   "metadata": {},
   "outputs": [],
   "source": [
    "import joblib"
   ]
  },
  {
   "cell_type": "code",
   "execution_count": 21,
   "id": "a8fe6fec",
   "metadata": {},
   "outputs": [
    {
     "data": {
      "text/plain": [
       "['lstm_tokenizer.joblib']"
      ]
     },
     "execution_count": 21,
     "metadata": {},
     "output_type": "execute_result"
    }
   ],
   "source": [
    "# Save the tokenizer\n",
    "joblib.dump(tokenizer, 'lstm_tokenizer.joblib')"
   ]
  },
  {
   "cell_type": "code",
   "execution_count": 53,
   "id": "3ab5da97",
   "metadata": {},
   "outputs": [
    {
     "name": "stdout",
     "output_type": "stream",
     "text": [
      "SVM Classification Report:\n",
      "               precision    recall  f1-score   support\n",
      "\n",
      "    negative       0.77      0.56      0.65      1562\n",
      "     neutral       0.61      0.81      0.69      2230\n",
      "    positive       0.80      0.66      0.72      1705\n",
      "\n",
      "    accuracy                           0.69      5497\n",
      "   macro avg       0.73      0.68      0.69      5497\n",
      "weighted avg       0.71      0.69      0.69      5497\n",
      "\n",
      "Random Forest Classification Report:\n",
      "               precision    recall  f1-score   support\n",
      "\n",
      "    negative       0.75      0.55      0.63      1562\n",
      "     neutral       0.62      0.77      0.69      2230\n",
      "    positive       0.76      0.70      0.73      1705\n",
      "\n",
      "    accuracy                           0.69      5497\n",
      "   macro avg       0.71      0.67      0.68      5497\n",
      "weighted avg       0.70      0.69      0.69      5497\n",
      "\n",
      "Naive Bayes Classification Report:\n",
      "               precision    recall  f1-score   support\n",
      "\n",
      "    negative       0.75      0.48      0.58      1562\n",
      "     neutral       0.56      0.79      0.65      2230\n",
      "    positive       0.75      0.59      0.66      1705\n",
      "\n",
      "    accuracy                           0.64      5497\n",
      "   macro avg       0.69      0.62      0.63      5497\n",
      "weighted avg       0.67      0.64      0.64      5497\n",
      "\n"
     ]
    }
   ],
   "source": [
    "print(\"SVM Classification Report:\\n\", classification_report(y_test_ML, svm_predictions))\n",
    "print(\"Random Forest Classification Report:\\n\", classification_report(y_test_ML, rf_predictions))\n",
    "print(\"Naive Bayes Classification Report:\\n\", classification_report(y_test_ML, nb_predictions))\n"
   ]
  },
  {
   "cell_type": "code",
   "execution_count": 54,
   "id": "7aba187e",
   "metadata": {},
   "outputs": [],
   "source": [
    "\n",
    "from sklearn.metrics import classification_report"
   ]
  },
  {
   "cell_type": "code",
   "execution_count": 55,
   "id": "203e8d32",
   "metadata": {},
   "outputs": [
    {
     "name": "stdout",
     "output_type": "stream",
     "text": [
      "\u001b[1m172/172\u001b[0m \u001b[32m━━━━━━━━━━━━━━━━━━━━\u001b[0m\u001b[37m\u001b[0m \u001b[1m2s\u001b[0m 14ms/step\n",
      "\u001b[1m172/172\u001b[0m \u001b[32m━━━━━━━━━━━━━━━━━━━━\u001b[0m\u001b[37m\u001b[0m \u001b[1m4s\u001b[0m 22ms/step\n"
     ]
    }
   ],
   "source": [
    "# Convert predictions to class labels if they are in one-hot format\n",
    "rnn_pred_labels = np.argmax(rnn_model.predict(X_test_pad), axis=1)\n",
    "lstm_pred_labels = np.argmax(model.predict(X_test_pad), axis=1)"
   ]
  },
  {
   "cell_type": "code",
   "execution_count": 56,
   "id": "5eac1d4c",
   "metadata": {},
   "outputs": [],
   "source": [
    "# Convert y_test from one-hot encoding to class labels\n",
    "y_test_labels = np.argmax(y_test, axis=1)"
   ]
  },
  {
   "cell_type": "code",
   "execution_count": 57,
   "id": "6c76a462",
   "metadata": {},
   "outputs": [],
   "source": [
    "# Generate classification reports\n",
    "rnn_classification_report = classification_report(y_test_labels, rnn_pred_labels, target_names=['Negative', 'Neutral', 'Positive'])\n",
    "lstm_classification_report = classification_report(y_test_labels, lstm_pred_labels, target_names=['Negative', 'Neutral', 'Positive'])"
   ]
  },
  {
   "cell_type": "code",
   "execution_count": 58,
   "id": "1f97db9d",
   "metadata": {},
   "outputs": [
    {
     "name": "stdout",
     "output_type": "stream",
     "text": [
      "🔹 RNN Classification Report:\n",
      "               precision    recall  f1-score   support\n",
      "\n",
      "    Negative       0.61      0.66      0.63      1562\n",
      "     Neutral       0.62      0.58      0.60      2230\n",
      "    Positive       0.72      0.74      0.73      1705\n",
      "\n",
      "    accuracy                           0.65      5497\n",
      "   macro avg       0.65      0.66      0.65      5497\n",
      "weighted avg       0.65      0.65      0.65      5497\n",
      "\n",
      "\n",
      "🔹 LSTM Classification Report:\n",
      "               precision    recall  f1-score   support\n",
      "\n",
      "    Negative       0.74      0.67      0.70      1562\n",
      "     Neutral       0.67      0.74      0.71      2230\n",
      "    Positive       0.80      0.75      0.78      1705\n",
      "\n",
      "    accuracy                           0.73      5497\n",
      "   macro avg       0.74      0.72      0.73      5497\n",
      "weighted avg       0.73      0.73      0.73      5497\n",
      "\n"
     ]
    }
   ],
   "source": [
    "# Print classification reports\n",
    "print(\"🔹 RNN Classification Report:\\n\", rnn_classification_report)\n",
    "print(\"\\n🔹 LSTM Classification Report:\\n\", lstm_classification_report)"
   ]
  },
  {
   "cell_type": "code",
   "execution_count": null,
   "id": "0e1b1c67",
   "metadata": {},
   "outputs": [],
   "source": []
  }
 ],
 "metadata": {
  "kernelspec": {
   "display_name": "Python 3 (ipykernel)",
   "language": "python",
   "name": "python3"
  },
  "language_info": {
   "codemirror_mode": {
    "name": "ipython",
    "version": 3
   },
   "file_extension": ".py",
   "mimetype": "text/x-python",
   "name": "python",
   "nbconvert_exporter": "python",
   "pygments_lexer": "ipython3",
   "version": "3.9.7"
  }
 },
 "nbformat": 4,
 "nbformat_minor": 5
}
